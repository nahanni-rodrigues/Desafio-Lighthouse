{
 "cells": [
  {
   "cell_type": "markdown",
   "metadata": {
    "id": "vIPNukrkNOvc"
   },
   "source": [
    "# **Importando bibliotecas**"
   ]
  },
  {
   "cell_type": "code",
   "execution_count": 1,
   "metadata": {
    "id": "bFjwEahpNJMR"
   },
   "outputs": [],
   "source": [
    "import numpy as np\n",
    "import pandas as pd\n",
    "import matplotlib.pyplot as plt\n",
    "import seaborn as sns"
   ]
  },
  {
   "cell_type": "markdown",
   "metadata": {},
   "source": [
    "# Leitura dos dados"
   ]
  },
  {
   "cell_type": "code",
   "execution_count": 2,
   "metadata": {
    "id": "MKdXHL9pNuS-"
   },
   "outputs": [],
   "source": [
    "df_train = pd.read_csv('desafio_manutencao_preditiva_treino.csv')\n",
    "df_test = pd.read_csv('desafio_manutencao_preditiva_teste.csv')"
   ]
  },
  {
   "cell_type": "code",
   "execution_count": 3,
   "metadata": {
    "colab": {
     "base_uri": "https://localhost:8080/",
     "height": 206
    },
    "id": "u_ftdiNuOzhx",
    "outputId": "bb874313-81dd-42aa-f92e-5cf8d524e892"
   },
   "outputs": [
    {
     "data": {
      "text/html": [
       "<div>\n",
       "<style scoped>\n",
       "    .dataframe tbody tr th:only-of-type {\n",
       "        vertical-align: middle;\n",
       "    }\n",
       "\n",
       "    .dataframe tbody tr th {\n",
       "        vertical-align: top;\n",
       "    }\n",
       "\n",
       "    .dataframe thead th {\n",
       "        text-align: right;\n",
       "    }\n",
       "</style>\n",
       "<table border=\"1\" class=\"dataframe\">\n",
       "  <thead>\n",
       "    <tr style=\"text-align: right;\">\n",
       "      <th></th>\n",
       "      <th>udi</th>\n",
       "      <th>product_id</th>\n",
       "      <th>type</th>\n",
       "      <th>air_temperature_k</th>\n",
       "      <th>process_temperature_k</th>\n",
       "      <th>rotational_speed_rpm</th>\n",
       "      <th>torque_nm</th>\n",
       "      <th>tool_wear_min</th>\n",
       "      <th>failure_type</th>\n",
       "    </tr>\n",
       "  </thead>\n",
       "  <tbody>\n",
       "    <tr>\n",
       "      <th>0</th>\n",
       "      <td>1</td>\n",
       "      <td>M14860</td>\n",
       "      <td>M</td>\n",
       "      <td>298.1</td>\n",
       "      <td>308.6</td>\n",
       "      <td>1551</td>\n",
       "      <td>42.8</td>\n",
       "      <td>0</td>\n",
       "      <td>No Failure</td>\n",
       "    </tr>\n",
       "    <tr>\n",
       "      <th>1</th>\n",
       "      <td>2</td>\n",
       "      <td>L47181</td>\n",
       "      <td>L</td>\n",
       "      <td>298.2</td>\n",
       "      <td>308.7</td>\n",
       "      <td>1408</td>\n",
       "      <td>46.3</td>\n",
       "      <td>3</td>\n",
       "      <td>No Failure</td>\n",
       "    </tr>\n",
       "    <tr>\n",
       "      <th>2</th>\n",
       "      <td>5</td>\n",
       "      <td>L47184</td>\n",
       "      <td>L</td>\n",
       "      <td>298.2</td>\n",
       "      <td>308.7</td>\n",
       "      <td>1408</td>\n",
       "      <td>40.0</td>\n",
       "      <td>9</td>\n",
       "      <td>No Failure</td>\n",
       "    </tr>\n",
       "    <tr>\n",
       "      <th>3</th>\n",
       "      <td>6</td>\n",
       "      <td>M14865</td>\n",
       "      <td>M</td>\n",
       "      <td>298.1</td>\n",
       "      <td>308.6</td>\n",
       "      <td>1425</td>\n",
       "      <td>41.9</td>\n",
       "      <td>11</td>\n",
       "      <td>No Failure</td>\n",
       "    </tr>\n",
       "    <tr>\n",
       "      <th>4</th>\n",
       "      <td>7</td>\n",
       "      <td>L47186</td>\n",
       "      <td>L</td>\n",
       "      <td>298.1</td>\n",
       "      <td>308.6</td>\n",
       "      <td>1558</td>\n",
       "      <td>42.4</td>\n",
       "      <td>14</td>\n",
       "      <td>No Failure</td>\n",
       "    </tr>\n",
       "  </tbody>\n",
       "</table>\n",
       "</div>"
      ],
      "text/plain": [
       "   udi product_id type  air_temperature_k  process_temperature_k  \\\n",
       "0    1     M14860    M              298.1                  308.6   \n",
       "1    2     L47181    L              298.2                  308.7   \n",
       "2    5     L47184    L              298.2                  308.7   \n",
       "3    6     M14865    M              298.1                  308.6   \n",
       "4    7     L47186    L              298.1                  308.6   \n",
       "\n",
       "   rotational_speed_rpm  torque_nm  tool_wear_min failure_type  \n",
       "0                  1551       42.8              0   No Failure  \n",
       "1                  1408       46.3              3   No Failure  \n",
       "2                  1408       40.0              9   No Failure  \n",
       "3                  1425       41.9             11   No Failure  \n",
       "4                  1558       42.4             14   No Failure  "
      ]
     },
     "execution_count": 3,
     "metadata": {},
     "output_type": "execute_result"
    }
   ],
   "source": [
    "df_train.head()"
   ]
  },
  {
   "cell_type": "markdown",
   "metadata": {},
   "source": [
    "**As colunas de 'udi' e 'product_id' não apresentam influencia nas análises, por isso serão removidas.**"
   ]
  },
  {
   "cell_type": "code",
   "execution_count": 4,
   "metadata": {
    "colab": {
     "base_uri": "https://localhost:8080/",
     "height": 424
    },
    "id": "yVhvzcYeXW3L",
    "outputId": "8a11cc6a-0cd5-4717-b82e-045da9f3edf1"
   },
   "outputs": [
    {
     "data": {
      "text/html": [
       "<div>\n",
       "<style scoped>\n",
       "    .dataframe tbody tr th:only-of-type {\n",
       "        vertical-align: middle;\n",
       "    }\n",
       "\n",
       "    .dataframe tbody tr th {\n",
       "        vertical-align: top;\n",
       "    }\n",
       "\n",
       "    .dataframe thead th {\n",
       "        text-align: right;\n",
       "    }\n",
       "</style>\n",
       "<table border=\"1\" class=\"dataframe\">\n",
       "  <thead>\n",
       "    <tr style=\"text-align: right;\">\n",
       "      <th></th>\n",
       "      <th>type</th>\n",
       "      <th>air_temperature_k</th>\n",
       "      <th>process_temperature_k</th>\n",
       "      <th>rotational_speed_rpm</th>\n",
       "      <th>torque_nm</th>\n",
       "      <th>tool_wear_min</th>\n",
       "      <th>failure_type</th>\n",
       "    </tr>\n",
       "  </thead>\n",
       "  <tbody>\n",
       "    <tr>\n",
       "      <th>0</th>\n",
       "      <td>M</td>\n",
       "      <td>298.1</td>\n",
       "      <td>308.6</td>\n",
       "      <td>1551</td>\n",
       "      <td>42.8</td>\n",
       "      <td>0</td>\n",
       "      <td>No Failure</td>\n",
       "    </tr>\n",
       "    <tr>\n",
       "      <th>1</th>\n",
       "      <td>L</td>\n",
       "      <td>298.2</td>\n",
       "      <td>308.7</td>\n",
       "      <td>1408</td>\n",
       "      <td>46.3</td>\n",
       "      <td>3</td>\n",
       "      <td>No Failure</td>\n",
       "    </tr>\n",
       "    <tr>\n",
       "      <th>2</th>\n",
       "      <td>L</td>\n",
       "      <td>298.2</td>\n",
       "      <td>308.7</td>\n",
       "      <td>1408</td>\n",
       "      <td>40.0</td>\n",
       "      <td>9</td>\n",
       "      <td>No Failure</td>\n",
       "    </tr>\n",
       "    <tr>\n",
       "      <th>3</th>\n",
       "      <td>M</td>\n",
       "      <td>298.1</td>\n",
       "      <td>308.6</td>\n",
       "      <td>1425</td>\n",
       "      <td>41.9</td>\n",
       "      <td>11</td>\n",
       "      <td>No Failure</td>\n",
       "    </tr>\n",
       "    <tr>\n",
       "      <th>4</th>\n",
       "      <td>L</td>\n",
       "      <td>298.1</td>\n",
       "      <td>308.6</td>\n",
       "      <td>1558</td>\n",
       "      <td>42.4</td>\n",
       "      <td>14</td>\n",
       "      <td>No Failure</td>\n",
       "    </tr>\n",
       "    <tr>\n",
       "      <th>...</th>\n",
       "      <td>...</td>\n",
       "      <td>...</td>\n",
       "      <td>...</td>\n",
       "      <td>...</td>\n",
       "      <td>...</td>\n",
       "      <td>...</td>\n",
       "      <td>...</td>\n",
       "    </tr>\n",
       "    <tr>\n",
       "      <th>6662</th>\n",
       "      <td>L</td>\n",
       "      <td>298.8</td>\n",
       "      <td>308.3</td>\n",
       "      <td>1634</td>\n",
       "      <td>27.9</td>\n",
       "      <td>12</td>\n",
       "      <td>No Failure</td>\n",
       "    </tr>\n",
       "    <tr>\n",
       "      <th>6663</th>\n",
       "      <td>M</td>\n",
       "      <td>298.8</td>\n",
       "      <td>308.4</td>\n",
       "      <td>1604</td>\n",
       "      <td>29.5</td>\n",
       "      <td>14</td>\n",
       "      <td>No Failure</td>\n",
       "    </tr>\n",
       "    <tr>\n",
       "      <th>6664</th>\n",
       "      <td>H</td>\n",
       "      <td>298.9</td>\n",
       "      <td>308.4</td>\n",
       "      <td>1632</td>\n",
       "      <td>31.8</td>\n",
       "      <td>17</td>\n",
       "      <td>No Failure</td>\n",
       "    </tr>\n",
       "    <tr>\n",
       "      <th>6665</th>\n",
       "      <td>H</td>\n",
       "      <td>299.0</td>\n",
       "      <td>308.7</td>\n",
       "      <td>1408</td>\n",
       "      <td>48.5</td>\n",
       "      <td>25</td>\n",
       "      <td>No Failure</td>\n",
       "    </tr>\n",
       "    <tr>\n",
       "      <th>6666</th>\n",
       "      <td>M</td>\n",
       "      <td>299.0</td>\n",
       "      <td>308.7</td>\n",
       "      <td>1500</td>\n",
       "      <td>40.2</td>\n",
       "      <td>30</td>\n",
       "      <td>No Failure</td>\n",
       "    </tr>\n",
       "  </tbody>\n",
       "</table>\n",
       "<p>6667 rows × 7 columns</p>\n",
       "</div>"
      ],
      "text/plain": [
       "     type  air_temperature_k  process_temperature_k  rotational_speed_rpm  \\\n",
       "0       M              298.1                  308.6                  1551   \n",
       "1       L              298.2                  308.7                  1408   \n",
       "2       L              298.2                  308.7                  1408   \n",
       "3       M              298.1                  308.6                  1425   \n",
       "4       L              298.1                  308.6                  1558   \n",
       "...   ...                ...                    ...                   ...   \n",
       "6662    L              298.8                  308.3                  1634   \n",
       "6663    M              298.8                  308.4                  1604   \n",
       "6664    H              298.9                  308.4                  1632   \n",
       "6665    H              299.0                  308.7                  1408   \n",
       "6666    M              299.0                  308.7                  1500   \n",
       "\n",
       "      torque_nm  tool_wear_min failure_type  \n",
       "0          42.8              0   No Failure  \n",
       "1          46.3              3   No Failure  \n",
       "2          40.0              9   No Failure  \n",
       "3          41.9             11   No Failure  \n",
       "4          42.4             14   No Failure  \n",
       "...         ...            ...          ...  \n",
       "6662       27.9             12   No Failure  \n",
       "6663       29.5             14   No Failure  \n",
       "6664       31.8             17   No Failure  \n",
       "6665       48.5             25   No Failure  \n",
       "6666       40.2             30   No Failure  \n",
       "\n",
       "[6667 rows x 7 columns]"
      ]
     },
     "execution_count": 4,
     "metadata": {},
     "output_type": "execute_result"
    }
   ],
   "source": [
    "df_train = df_train.drop(['udi', 'product_id'], axis=1)\n",
    "df_train"
   ]
  },
  {
   "cell_type": "code",
   "execution_count": 5,
   "metadata": {
    "colab": {
     "base_uri": "https://localhost:8080/"
    },
    "id": "UbMhi--uPfZW",
    "outputId": "92faae86-dc8f-4c57-82d1-95f2a1772e40"
   },
   "outputs": [
    {
     "data": {
      "text/plain": [
       "(6667, 7)"
      ]
     },
     "execution_count": 5,
     "metadata": {},
     "output_type": "execute_result"
    }
   ],
   "source": [
    "df_train.shape"
   ]
  },
  {
   "cell_type": "markdown",
   "metadata": {},
   "source": [
    "# As funções .describe() e .info() mostram as principais estatísticas descritivas dos dados, assim como que não existem valores faltantes para serem tratados antes da construção dos modelos de Machine Learning"
   ]
  },
  {
   "cell_type": "code",
   "execution_count": 6,
   "metadata": {
    "colab": {
     "base_uri": "https://localhost:8080/",
     "height": 300
    },
    "id": "bfKc0iQWP3bk",
    "outputId": "0720c998-219f-4090-dcb7-5546706ec6ca"
   },
   "outputs": [
    {
     "data": {
      "text/html": [
       "<div>\n",
       "<style scoped>\n",
       "    .dataframe tbody tr th:only-of-type {\n",
       "        vertical-align: middle;\n",
       "    }\n",
       "\n",
       "    .dataframe tbody tr th {\n",
       "        vertical-align: top;\n",
       "    }\n",
       "\n",
       "    .dataframe thead th {\n",
       "        text-align: right;\n",
       "    }\n",
       "</style>\n",
       "<table border=\"1\" class=\"dataframe\">\n",
       "  <thead>\n",
       "    <tr style=\"text-align: right;\">\n",
       "      <th></th>\n",
       "      <th>air_temperature_k</th>\n",
       "      <th>process_temperature_k</th>\n",
       "      <th>rotational_speed_rpm</th>\n",
       "      <th>torque_nm</th>\n",
       "      <th>tool_wear_min</th>\n",
       "    </tr>\n",
       "  </thead>\n",
       "  <tbody>\n",
       "    <tr>\n",
       "      <th>count</th>\n",
       "      <td>6667.000000</td>\n",
       "      <td>6667.000000</td>\n",
       "      <td>6667.000000</td>\n",
       "      <td>6667.000000</td>\n",
       "      <td>6667.000000</td>\n",
       "    </tr>\n",
       "    <tr>\n",
       "      <th>mean</th>\n",
       "      <td>299.992515</td>\n",
       "      <td>309.992620</td>\n",
       "      <td>1537.419529</td>\n",
       "      <td>40.058512</td>\n",
       "      <td>108.098095</td>\n",
       "    </tr>\n",
       "    <tr>\n",
       "      <th>std</th>\n",
       "      <td>1.994710</td>\n",
       "      <td>1.488101</td>\n",
       "      <td>177.182908</td>\n",
       "      <td>9.950804</td>\n",
       "      <td>63.359915</td>\n",
       "    </tr>\n",
       "    <tr>\n",
       "      <th>min</th>\n",
       "      <td>295.300000</td>\n",
       "      <td>305.700000</td>\n",
       "      <td>1168.000000</td>\n",
       "      <td>3.800000</td>\n",
       "      <td>0.000000</td>\n",
       "    </tr>\n",
       "    <tr>\n",
       "      <th>25%</th>\n",
       "      <td>298.300000</td>\n",
       "      <td>308.800000</td>\n",
       "      <td>1422.500000</td>\n",
       "      <td>33.200000</td>\n",
       "      <td>54.000000</td>\n",
       "    </tr>\n",
       "    <tr>\n",
       "      <th>50%</th>\n",
       "      <td>300.000000</td>\n",
       "      <td>310.000000</td>\n",
       "      <td>1503.000000</td>\n",
       "      <td>40.200000</td>\n",
       "      <td>108.000000</td>\n",
       "    </tr>\n",
       "    <tr>\n",
       "      <th>75%</th>\n",
       "      <td>301.500000</td>\n",
       "      <td>311.100000</td>\n",
       "      <td>1612.000000</td>\n",
       "      <td>46.800000</td>\n",
       "      <td>162.000000</td>\n",
       "    </tr>\n",
       "    <tr>\n",
       "      <th>max</th>\n",
       "      <td>304.500000</td>\n",
       "      <td>313.800000</td>\n",
       "      <td>2886.000000</td>\n",
       "      <td>76.600000</td>\n",
       "      <td>251.000000</td>\n",
       "    </tr>\n",
       "  </tbody>\n",
       "</table>\n",
       "</div>"
      ],
      "text/plain": [
       "       air_temperature_k  process_temperature_k  rotational_speed_rpm  \\\n",
       "count        6667.000000            6667.000000           6667.000000   \n",
       "mean          299.992515             309.992620           1537.419529   \n",
       "std             1.994710               1.488101            177.182908   \n",
       "min           295.300000             305.700000           1168.000000   \n",
       "25%           298.300000             308.800000           1422.500000   \n",
       "50%           300.000000             310.000000           1503.000000   \n",
       "75%           301.500000             311.100000           1612.000000   \n",
       "max           304.500000             313.800000           2886.000000   \n",
       "\n",
       "         torque_nm  tool_wear_min  \n",
       "count  6667.000000    6667.000000  \n",
       "mean     40.058512     108.098095  \n",
       "std       9.950804      63.359915  \n",
       "min       3.800000       0.000000  \n",
       "25%      33.200000      54.000000  \n",
       "50%      40.200000     108.000000  \n",
       "75%      46.800000     162.000000  \n",
       "max      76.600000     251.000000  "
      ]
     },
     "execution_count": 6,
     "metadata": {},
     "output_type": "execute_result"
    }
   ],
   "source": [
    "df_train.describe()"
   ]
  },
  {
   "cell_type": "code",
   "execution_count": 7,
   "metadata": {
    "colab": {
     "base_uri": "https://localhost:8080/"
    },
    "id": "rj5fxgx5Qc9T",
    "outputId": "92e2633a-2fee-44a3-a1bf-be240d2fdb15"
   },
   "outputs": [
    {
     "name": "stdout",
     "output_type": "stream",
     "text": [
      "<class 'pandas.core.frame.DataFrame'>\n",
      "RangeIndex: 6667 entries, 0 to 6666\n",
      "Data columns (total 7 columns):\n",
      " #   Column                 Non-Null Count  Dtype  \n",
      "---  ------                 --------------  -----  \n",
      " 0   type                   6667 non-null   object \n",
      " 1   air_temperature_k      6667 non-null   float64\n",
      " 2   process_temperature_k  6667 non-null   float64\n",
      " 3   rotational_speed_rpm   6667 non-null   int64  \n",
      " 4   torque_nm              6667 non-null   float64\n",
      " 5   tool_wear_min          6667 non-null   int64  \n",
      " 6   failure_type           6667 non-null   object \n",
      "dtypes: float64(3), int64(2), object(2)\n",
      "memory usage: 364.7+ KB\n"
     ]
    }
   ],
   "source": [
    "df_train.info()"
   ]
  },
  {
   "cell_type": "markdown",
   "metadata": {},
   "source": [
    "# Pode-se observar que a variável alvo (target) está desbalanceada, pois há muitos valores para categoria 'No Failure'. Um possível estudo posterior poderia mostrar se técnicas de superamostragem das classes minoritárias (SMOTE: Synthetic Minority Over-sampling Technique) seria interessante para evitar Overfitting"
   ]
  },
  {
   "cell_type": "code",
   "execution_count": 8,
   "metadata": {
    "colab": {
     "base_uri": "https://localhost:8080/",
     "height": 238
    },
    "id": "q2qlGyC3Qvb3",
    "outputId": "b8ec9971-1fd2-4875-bf98-7d609f36a4ca"
   },
   "outputs": [
    {
     "data": {
      "text/html": [
       "<div>\n",
       "<style scoped>\n",
       "    .dataframe tbody tr th:only-of-type {\n",
       "        vertical-align: middle;\n",
       "    }\n",
       "\n",
       "    .dataframe tbody tr th {\n",
       "        vertical-align: top;\n",
       "    }\n",
       "\n",
       "    .dataframe thead th {\n",
       "        text-align: right;\n",
       "    }\n",
       "</style>\n",
       "<table border=\"1\" class=\"dataframe\">\n",
       "  <thead>\n",
       "    <tr style=\"text-align: right;\">\n",
       "      <th></th>\n",
       "      <th>failure_type</th>\n",
       "    </tr>\n",
       "  </thead>\n",
       "  <tbody>\n",
       "    <tr>\n",
       "      <th>No Failure</th>\n",
       "      <td>6435</td>\n",
       "    </tr>\n",
       "    <tr>\n",
       "      <th>Heat Dissipation Failure</th>\n",
       "      <td>75</td>\n",
       "    </tr>\n",
       "    <tr>\n",
       "      <th>Power Failure</th>\n",
       "      <td>63</td>\n",
       "    </tr>\n",
       "    <tr>\n",
       "      <th>Overstrain Failure</th>\n",
       "      <td>52</td>\n",
       "    </tr>\n",
       "    <tr>\n",
       "      <th>Tool Wear Failure</th>\n",
       "      <td>30</td>\n",
       "    </tr>\n",
       "    <tr>\n",
       "      <th>Random Failures</th>\n",
       "      <td>12</td>\n",
       "    </tr>\n",
       "  </tbody>\n",
       "</table>\n",
       "</div>"
      ],
      "text/plain": [
       "                          failure_type\n",
       "No Failure                        6435\n",
       "Heat Dissipation Failure            75\n",
       "Power Failure                       63\n",
       "Overstrain Failure                  52\n",
       "Tool Wear Failure                   30\n",
       "Random Failures                     12"
      ]
     },
     "execution_count": 8,
     "metadata": {},
     "output_type": "execute_result"
    }
   ],
   "source": [
    "count = pd.DataFrame(df_train['failure_type'].value_counts())\n",
    "count"
   ]
  },
  {
   "cell_type": "markdown",
   "metadata": {},
   "source": [
    "O histograma nos mostra a distribuição dos atributos que serão utilizados na previsão"
   ]
  },
  {
   "cell_type": "code",
   "execution_count": 9,
   "metadata": {
    "colab": {
     "base_uri": "https://localhost:8080/",
     "height": 879
    },
    "id": "1ZcOX8ChRFwj",
    "outputId": "3ca520ba-0c68-40dd-bc23-e8a9af8f7b07"
   },
   "outputs": [
    {
     "data": {
      "image/png": "[encoded data removed]",
      "text/plain": [
       "<Figure size 1440x1080 with 6 Axes>"
      ]
     },
     "metadata": {
      "needs_background": "light"
     },
     "output_type": "display_data"
    }
   ],
   "source": [
    "df_train.hist(bins=50, figsize=(20,15))\n",
    "plt.show()"
   ]
  },
  {
   "cell_type": "markdown",
   "metadata": {},
   "source": [
    "# A partir da matriz de correlação, observa-se que a temperatura do ar (air_temperature_k) e a temperatura do processo (process_temperature_k) possuem alta correlação positiva. Enquanto que a velocidade de rotação (rotational_speed_rpm) e o torque (torque_nm) possuem alta correlação negativa. Essas observações também podem ser observadas no gráfico de disperssão."
   ]
  },
  {
   "cell_type": "code",
   "execution_count": 10,
   "metadata": {
    "colab": {
     "base_uri": "https://localhost:8080/",
     "height": 206
    },
    "id": "SiJpkwMOSF-C",
    "outputId": "49b6ef09-20ff-4354-c3bf-1646e4fd3aec"
   },
   "outputs": [
    {
     "data": {
      "text/html": [
       "<div>\n",
       "<style scoped>\n",
       "    .dataframe tbody tr th:only-of-type {\n",
       "        vertical-align: middle;\n",
       "    }\n",
       "\n",
       "    .dataframe tbody tr th {\n",
       "        vertical-align: top;\n",
       "    }\n",
       "\n",
       "    .dataframe thead th {\n",
       "        text-align: right;\n",
       "    }\n",
       "</style>\n",
       "<table border=\"1\" class=\"dataframe\">\n",
       "  <thead>\n",
       "    <tr style=\"text-align: right;\">\n",
       "      <th></th>\n",
       "      <th>air_temperature_k</th>\n",
       "      <th>process_temperature_k</th>\n",
       "      <th>rotational_speed_rpm</th>\n",
       "      <th>torque_nm</th>\n",
       "      <th>tool_wear_min</th>\n",
       "    </tr>\n",
       "  </thead>\n",
       "  <tbody>\n",
       "    <tr>\n",
       "      <th>air_temperature_k</th>\n",
       "      <td>1.000000</td>\n",
       "      <td>0.875724</td>\n",
       "      <td>0.035903</td>\n",
       "      <td>-0.023257</td>\n",
       "      <td>0.021078</td>\n",
       "    </tr>\n",
       "    <tr>\n",
       "      <th>process_temperature_k</th>\n",
       "      <td>0.875724</td>\n",
       "      <td>1.000000</td>\n",
       "      <td>0.033379</td>\n",
       "      <td>-0.024457</td>\n",
       "      <td>0.020298</td>\n",
       "    </tr>\n",
       "    <tr>\n",
       "      <th>rotational_speed_rpm</th>\n",
       "      <td>0.035903</td>\n",
       "      <td>0.033379</td>\n",
       "      <td>1.000000</td>\n",
       "      <td>-0.875989</td>\n",
       "      <td>-0.001290</td>\n",
       "    </tr>\n",
       "    <tr>\n",
       "      <th>torque_nm</th>\n",
       "      <td>-0.023257</td>\n",
       "      <td>-0.024457</td>\n",
       "      <td>-0.875989</td>\n",
       "      <td>1.000000</td>\n",
       "      <td>-0.004343</td>\n",
       "    </tr>\n",
       "    <tr>\n",
       "      <th>tool_wear_min</th>\n",
       "      <td>0.021078</td>\n",
       "      <td>0.020298</td>\n",
       "      <td>-0.001290</td>\n",
       "      <td>-0.004343</td>\n",
       "      <td>1.000000</td>\n",
       "    </tr>\n",
       "  </tbody>\n",
       "</table>\n",
       "</div>"
      ],
      "text/plain": [
       "                       air_temperature_k  process_temperature_k  \\\n",
       "air_temperature_k               1.000000               0.875724   \n",
       "process_temperature_k           0.875724               1.000000   \n",
       "rotational_speed_rpm            0.035903               0.033379   \n",
       "torque_nm                      -0.023257              -0.024457   \n",
       "tool_wear_min                   0.021078               0.020298   \n",
       "\n",
       "                       rotational_speed_rpm  torque_nm  tool_wear_min  \n",
       "air_temperature_k                  0.035903  -0.023257       0.021078  \n",
       "process_temperature_k              0.033379  -0.024457       0.020298  \n",
       "rotational_speed_rpm               1.000000  -0.875989      -0.001290  \n",
       "torque_nm                         -0.875989   1.000000      -0.004343  \n",
       "tool_wear_min                     -0.001290  -0.004343       1.000000  "
      ]
     },
     "execution_count": 10,
     "metadata": {},
     "output_type": "execute_result"
    }
   ],
   "source": [
    "df_train_corr = df_train.corr()\n",
    "df_train_corr"
   ]
  },
  {
   "cell_type": "code",
   "execution_count": 11,
   "metadata": {
    "colab": {
     "base_uri": "https://localhost:8080/",
     "height": 393
    },
    "id": "vdPIrUeGBaD3",
    "outputId": "33ffafa7-b433-4333-8b18-9d597909f443"
   },
   "outputs": [
    {
     "data": {
      "text/plain": [
       "<matplotlib.axes._subplots.AxesSubplot at 0x12b2ddc2ca0>"
      ]
     },
     "execution_count": 11,
     "metadata": {},
     "output_type": "execute_result"
    },
    {
     "data": {
      "image/png": "[encoded data removed]",
      "text/plain": [
       "<Figure size 432x288 with 2 Axes>"
      ]
     },
     "metadata": {
      "needs_background": "light"
     },
     "output_type": "display_data"
    }
   ],
   "source": [
    "sns.heatmap(df_train_corr, annot=True, cmap=\"YlGnBu\")"
   ]
  },
  {
   "cell_type": "code",
   "execution_count": 12,
   "metadata": {
    "colab": {
     "base_uri": "https://localhost:8080/",
     "height": 404
    },
    "id": "zREKmQ4JGiw-",
    "outputId": "1c930da1-9bd0-47f3-ba33-4368382cd8c7"
   },
   "outputs": [
    {
     "data": {
      "image/png": "[encoded data removed]",
      "text/plain": [
       "<Figure size 720x432 with 1 Axes>"
      ]
     },
     "metadata": {
      "needs_background": "light"
     },
     "output_type": "display_data"
    }
   ],
   "source": [
    "plt.figure(figsize=(10,6))\n",
    "plt.scatter(df_train['air_temperature_k'], df_train['process_temperature_k'])\n",
    "plt.title('Gráfico de Dispersão')\n",
    "plt.xlabel('Air temperature (K)')\n",
    "plt.ylabel('Process temperature (K)')\n",
    "plt.show()"
   ]
  },
  {
   "cell_type": "code",
   "execution_count": 13,
   "metadata": {
    "colab": {
     "base_uri": "https://localhost:8080/",
     "height": 404
    },
    "id": "k797_RhFK5rt",
    "outputId": "7feb8a3e-9025-40f6-a375-9bf30bdc3448"
   },
   "outputs": [
    {
     "data": {
      "image/png": "[encoded data removed]",
      "text/plain": [
       "<Figure size 720x432 with 1 Axes>"
      ]
     },
     "metadata": {
      "needs_background": "light"
     },
     "output_type": "display_data"
    }
   ],
   "source": [
    "plt.figure(figsize=(10,6))\n",
    "plt.scatter(df_train['rotational_speed_rpm'], df_train['torque_nm'])\n",
    "plt.title('Gráfico de Dispersão')\n",
    "plt.xlabel('Rotation Speed (rpm)')\n",
    "plt.ylabel('Torque (Nm)')\n",
    "plt.show()"
   ]
  },
  {
   "cell_type": "markdown",
   "metadata": {},
   "source": [
    "A visualização da distribuição do tipo do produto foi criada em um gráfico de barras abaixo."
   ]
  },
  {
   "cell_type": "code",
   "execution_count": 14,
   "metadata": {
    "colab": {
     "base_uri": "https://localhost:8080/",
     "height": 312
    },
    "id": "2VDEeHWHDzGU",
    "outputId": "c45abac1-7465-4cdd-86e2-1eeb532e3a09"
   },
   "outputs": [
    {
     "data": {
      "text/plain": [
       "Text(0.5, 1.0, 'Gráfico de barras')"
      ]
     },
     "execution_count": 14,
     "metadata": {},
     "output_type": "execute_result"
    },
    {
     "data": {
      "image/png": "[encoded data removed]",
      "text/plain": [
       "<Figure size 432x288 with 1 Axes>"
      ]
     },
     "metadata": {
      "needs_background": "light"
     },
     "output_type": "display_data"
    }
   ],
   "source": [
    "failure_type = sns.countplot(y='type', orient='H', data=df_train)\n",
    "failure_type.set_ylabel(\"Quantidade\")\n",
    "failure_type.set_title(\"Gráfico de barras\")"
   ]
  },
  {
   "cell_type": "markdown",
   "metadata": {},
   "source": [
    "# Gráficos de boxplot foram criados, e apenas nas variáveis de velocidade de rotação (rotational_speed_rpm) e torque (torque_nm) foram observados pontos de outliers. Estudos posteriores poderiam ser desenvolvidos para avaliar se esses pontos extremos possuem influencia positiva ou negativa na criação dos modelos de Machine Learning para previsão da variável alvo. "
   ]
  },
  {
   "cell_type": "code",
   "execution_count": 15,
   "metadata": {
    "colab": {
     "base_uri": "https://localhost:8080/",
     "height": 405
    },
    "id": "FTqc_Zr8MLCs",
    "outputId": "dbfb7fb0-a825-4bd5-950a-b7702b331e60"
   },
   "outputs": [
    {
     "data": {
      "text/plain": [
       "Text(0, 0.5, 'Rotation Speed (rpm)')"
      ]
     },
     "execution_count": 15,
     "metadata": {},
     "output_type": "execute_result"
    },
    {
     "data": {
      "image/png": "[encoded data removed]",
      "text/plain": [
       "<Figure size 720x432 with 1 Axes>"
      ]
     },
     "metadata": {
      "needs_background": "light"
     },
     "output_type": "display_data"
    }
   ],
   "source": [
    "plt.figure(figsize=(10,6))\n",
    "sns.boxplot(x = 'type', y = 'rotational_speed_rpm', data = df_train)\n",
    "plt.xlabel('Type')\n",
    "plt.ylabel('Rotation Speed (rpm)')"
   ]
  },
  {
   "cell_type": "code",
   "execution_count": 16,
   "metadata": {
    "colab": {
     "base_uri": "https://localhost:8080/",
     "height": 408
    },
    "id": "0KWFrfNlNJSv",
    "outputId": "b0c003f2-c04f-4e34-f6f6-b6a9d786e157"
   },
   "outputs": [
    {
     "data": {
      "text/plain": [
       "Text(0, 0.5, 'Rotation Speed (rpm)')"
      ]
     },
     "execution_count": 16,
     "metadata": {},
     "output_type": "execute_result"
    },
    {
     "data": {
      "image/png": "[encoded data removed]",
      "text/plain": [
       "<Figure size 720x432 with 1 Axes>"
      ]
     },
     "metadata": {
      "needs_background": "light"
     },
     "output_type": "display_data"
    }
   ],
   "source": [
    "plt.figure(figsize=(10,6))\n",
    "sns.boxplot(x = 'type', y = 'torque_nm', data = df_train)\n",
    "#sns.stripplot(x = 'type', y = 'rotational_speed_rpm', data = df_train)\n",
    "plt.xlabel('Type')\n",
    "plt.ylabel('Rotation Speed (rpm)')"
   ]
  },
  {
   "cell_type": "markdown",
   "metadata": {},
   "source": [
    "# Pelo fato de se tratar de um problema onde a variável alvo (target) possuem 5 categorias possíveis (No Failure, Heat Dissipation Failure, Power Failure, Overstrain Failure, Tool Wear Failure e Random Failures) a abordagem é de classificação. "
   ]
  }
 ],
 "metadata": {
  "colab": {
   "provenance": []
  },
  "kernelspec": {
   "display_name": "Python 3",
   "language": "python",
   "name": "python3"
  },
  "language_info": {
   "codemirror_mode": {
    "name": "ipython",
    "version": 3
   },
   "file_extension": ".py",
   "mimetype": "text/x-python",
   "name": "python",
   "nbconvert_exporter": "python",
   "pygments_lexer": "ipython3",
   "version": "3.8.5"
  }
 },
 "nbformat": 4,
 "nbformat_minor": 1
}
